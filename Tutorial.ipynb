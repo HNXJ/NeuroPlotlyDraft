{
  "nbformat": 4,
  "nbformat_minor": 5,
  "metadata": {
    "kernelspec": {
      "display_name": "Python 3 (ipykernel)",
      "language": "python",
      "name": "python3"
    },
    "language_info": {
      "codemirror_mode": {
        "name": "ipython",
        "version": 3
      },
      "file_extension": ".py",
      "mimetype": "text/x-python",
      "name": "python",
      "nbconvert_exporter": "python",
      "pygments_lexer": "ipython3",
      "version": "3.7.6"
    },
    "varInspector": {
      "cols": {
        "lenName": 16,
        "lenType": 16,
        "lenVar": 40
      },
      "kernels_config": {
        "python": {
          "delete_cmd_postfix": "",
          "delete_cmd_prefix": "del ",
          "library": "var_list.py",
          "varRefreshCmd": "print(var_dic_list())"
        },
        "r": {
          "delete_cmd_postfix": ") ",
          "delete_cmd_prefix": "rm(",
          "library": "var_list.r",
          "varRefreshCmd": "cat(var_dic_list()) "
        }
      },
      "types_to_exclude": [
        "module",
        "function",
        "builtin_function_or_method",
        "instance",
        "_Feature"
      ],
      "window_display": false
    },
    "colab": {
      "name": "Tutorial.ipynb",
      "provenance": [],
      "collapsed_sections": [],
      "include_colab_link": true
    }
  },
  "cells": [
    {
      "cell_type": "markdown",
      "metadata": {
        "id": "view-in-github",
        "colab_type": "text"
      },
      "source": [
        "<a href=\"https://colab.research.google.com/github/HNXJ/NeuroPy/blob/main/Tutorial.ipynb\" target=\"_parent\"><img src=\"https://colab.research.google.com/assets/colab-badge.svg\" alt=\"Open In Colab\"/></a>"
      ]
    },
    {
      "cell_type": "code",
      "metadata": {
        "colab": {
          "base_uri": "https://localhost:8080/",
          "height": 622
        },
        "id": "3_hBI-blpZDI",
        "outputId": "3d4890e0-d4c9-48fb-e2d6-1b2e3c342a7c"
      },
      "source": [
        "# !pip install wget\n",
        "# !pip install mne\n",
        "# !pip install dash\n",
        "import os\n",
        "import wget\n",
        "import zipfile\n",
        "\n",
        "\n",
        "def download(folder_path = ''):\n",
        "\n",
        "    wget.download(\"https://github.com/HNXJ/NeuroPy/archive/refs/heads/main.zip\")\n",
        "    with zipfile.ZipFile(\"NeuroPy-main.zip\", 'r') as zip_ref:\n",
        "        zip_ref.extractall(folder_path)\n",
        "\n",
        "    try:\n",
        "        os.mkdir(\"Data/\")\n",
        "    except:\n",
        "        pass\n",
        "\n",
        "    wget.download('link', out=folder_path + \"Data/\")\n",
        "    print(\"All files are downloaded to \" + folder_path)\n",
        "    # return \"NeuroPy-main/\"\n",
        "\n",
        "\n",
        "download()\n",
        "import sys\n",
        "sys.path.insert(1, \"NeuroPy-main/\")"
      ],
      "id": "3_hBI-blpZDI",
      "execution_count": 32,
      "outputs": [
        {
          "output_type": "error",
          "ename": "ValueError",
          "evalue": "ignored",
          "traceback": [
            "\u001b[0;31m---------------------------------------------------------------------------\u001b[0m",
            "\u001b[0;31mValueError\u001b[0m                                Traceback (most recent call last)",
            "\u001b[0;32m<ipython-input-32-4ea5a1ec7064>\u001b[0m in \u001b[0;36m<module>\u001b[0;34m()\u001b[0m\n\u001b[1;32m     23\u001b[0m \u001b[0;34m\u001b[0m\u001b[0m\n\u001b[1;32m     24\u001b[0m \u001b[0;34m\u001b[0m\u001b[0m\n\u001b[0;32m---> 25\u001b[0;31m \u001b[0mdownload\u001b[0m\u001b[0;34m(\u001b[0m\u001b[0;34m)\u001b[0m\u001b[0;34m\u001b[0m\u001b[0;34m\u001b[0m\u001b[0m\n\u001b[0m\u001b[1;32m     26\u001b[0m \u001b[0;32mimport\u001b[0m \u001b[0msys\u001b[0m\u001b[0;34m\u001b[0m\u001b[0;34m\u001b[0m\u001b[0m\n\u001b[1;32m     27\u001b[0m \u001b[0msys\u001b[0m\u001b[0;34m.\u001b[0m\u001b[0mpath\u001b[0m\u001b[0;34m.\u001b[0m\u001b[0minsert\u001b[0m\u001b[0;34m(\u001b[0m\u001b[0;36m1\u001b[0m\u001b[0;34m,\u001b[0m \u001b[0;34m\"NeuroPy-main/\"\u001b[0m\u001b[0;34m)\u001b[0m\u001b[0;34m\u001b[0m\u001b[0;34m\u001b[0m\u001b[0m\n",
            "\u001b[0;32m<ipython-input-32-4ea5a1ec7064>\u001b[0m in \u001b[0;36mdownload\u001b[0;34m(folder_path)\u001b[0m\n\u001b[1;32m     18\u001b[0m         \u001b[0;32mpass\u001b[0m\u001b[0;34m\u001b[0m\u001b[0;34m\u001b[0m\u001b[0m\n\u001b[1;32m     19\u001b[0m \u001b[0;34m\u001b[0m\u001b[0m\n\u001b[0;32m---> 20\u001b[0;31m     \u001b[0mwget\u001b[0m\u001b[0;34m.\u001b[0m\u001b[0mdownload\u001b[0m\u001b[0;34m(\u001b[0m\u001b[0;34m'https://www.dropbox.com/sh/cd149rd8ibe9rkv/AAD-ii1qu96d0HD7XyeKstpOa/Data?dl=0&preview=data.mat&subfolder_nav_tracking=1'\u001b[0m\u001b[0;34m,\u001b[0m \u001b[0mout\u001b[0m\u001b[0;34m=\u001b[0m\u001b[0mfolder_path\u001b[0m \u001b[0;34m+\u001b[0m \u001b[0;34m\"Data/\"\u001b[0m\u001b[0;34m)\u001b[0m\u001b[0;34m\u001b[0m\u001b[0;34m\u001b[0m\u001b[0m\n\u001b[0m\u001b[1;32m     21\u001b[0m     \u001b[0mprint\u001b[0m\u001b[0;34m(\u001b[0m\u001b[0;34m\"All files are downloaded to \"\u001b[0m \u001b[0;34m+\u001b[0m \u001b[0mfolder_path\u001b[0m\u001b[0;34m)\u001b[0m\u001b[0;34m\u001b[0m\u001b[0;34m\u001b[0m\u001b[0m\n\u001b[1;32m     22\u001b[0m     \u001b[0;31m# return \"NeuroPy-main/\"\u001b[0m\u001b[0;34m\u001b[0m\u001b[0;34m\u001b[0m\u001b[0;34m\u001b[0m\u001b[0m\n",
            "\u001b[0;32m/usr/local/lib/python3.7/dist-packages/wget.py\u001b[0m in \u001b[0;36mdownload\u001b[0;34m(url, out, bar)\u001b[0m\n\u001b[1;32m    531\u001b[0m     \u001b[0;31m# add numeric ' (x)' suffix if filename already exists\u001b[0m\u001b[0;34m\u001b[0m\u001b[0;34m\u001b[0m\u001b[0;34m\u001b[0m\u001b[0m\n\u001b[1;32m    532\u001b[0m     \u001b[0;32mif\u001b[0m \u001b[0mos\u001b[0m\u001b[0;34m.\u001b[0m\u001b[0mpath\u001b[0m\u001b[0;34m.\u001b[0m\u001b[0mexists\u001b[0m\u001b[0;34m(\u001b[0m\u001b[0mfilename\u001b[0m\u001b[0;34m)\u001b[0m\u001b[0;34m:\u001b[0m\u001b[0;34m\u001b[0m\u001b[0;34m\u001b[0m\u001b[0m\n\u001b[0;32m--> 533\u001b[0;31m         \u001b[0mfilename\u001b[0m \u001b[0;34m=\u001b[0m \u001b[0mfilename_fix_existing\u001b[0m\u001b[0;34m(\u001b[0m\u001b[0mfilename\u001b[0m\u001b[0;34m)\u001b[0m\u001b[0;34m\u001b[0m\u001b[0;34m\u001b[0m\u001b[0m\n\u001b[0m\u001b[1;32m    534\u001b[0m     \u001b[0mshutil\u001b[0m\u001b[0;34m.\u001b[0m\u001b[0mmove\u001b[0m\u001b[0;34m(\u001b[0m\u001b[0mtmpfile\u001b[0m\u001b[0;34m,\u001b[0m \u001b[0mfilename\u001b[0m\u001b[0;34m)\u001b[0m\u001b[0;34m\u001b[0m\u001b[0;34m\u001b[0m\u001b[0m\n\u001b[1;32m    535\u001b[0m \u001b[0;34m\u001b[0m\u001b[0m\n",
            "\u001b[0;32m/usr/local/lib/python3.7/dist-packages/wget.py\u001b[0m in \u001b[0;36mfilename_fix_existing\u001b[0;34m(filename)\u001b[0m\n\u001b[1;32m    267\u001b[0m     \"\"\"\n\u001b[1;32m    268\u001b[0m     \u001b[0mdirname\u001b[0m \u001b[0;34m=\u001b[0m \u001b[0;34mu'.'\u001b[0m\u001b[0;34m\u001b[0m\u001b[0;34m\u001b[0m\u001b[0m\n\u001b[0;32m--> 269\u001b[0;31m     \u001b[0mname\u001b[0m\u001b[0;34m,\u001b[0m \u001b[0mext\u001b[0m \u001b[0;34m=\u001b[0m \u001b[0mfilename\u001b[0m\u001b[0;34m.\u001b[0m\u001b[0mrsplit\u001b[0m\u001b[0;34m(\u001b[0m\u001b[0;34m'.'\u001b[0m\u001b[0;34m,\u001b[0m \u001b[0;36m1\u001b[0m\u001b[0;34m)\u001b[0m\u001b[0;34m\u001b[0m\u001b[0;34m\u001b[0m\u001b[0m\n\u001b[0m\u001b[1;32m    270\u001b[0m     \u001b[0mnames\u001b[0m \u001b[0;34m=\u001b[0m \u001b[0;34m[\u001b[0m\u001b[0mx\u001b[0m \u001b[0;32mfor\u001b[0m \u001b[0mx\u001b[0m \u001b[0;32min\u001b[0m \u001b[0mos\u001b[0m\u001b[0;34m.\u001b[0m\u001b[0mlistdir\u001b[0m\u001b[0;34m(\u001b[0m\u001b[0mdirname\u001b[0m\u001b[0;34m)\u001b[0m \u001b[0;32mif\u001b[0m \u001b[0mx\u001b[0m\u001b[0;34m.\u001b[0m\u001b[0mstartswith\u001b[0m\u001b[0;34m(\u001b[0m\u001b[0mname\u001b[0m\u001b[0;34m)\u001b[0m\u001b[0;34m]\u001b[0m\u001b[0;34m\u001b[0m\u001b[0;34m\u001b[0m\u001b[0m\n\u001b[1;32m    271\u001b[0m     \u001b[0mnames\u001b[0m \u001b[0;34m=\u001b[0m \u001b[0;34m[\u001b[0m\u001b[0mx\u001b[0m\u001b[0;34m.\u001b[0m\u001b[0mrsplit\u001b[0m\u001b[0;34m(\u001b[0m\u001b[0;34m'.'\u001b[0m\u001b[0;34m,\u001b[0m \u001b[0;36m1\u001b[0m\u001b[0;34m)\u001b[0m\u001b[0;34m[\u001b[0m\u001b[0;36m0\u001b[0m\u001b[0;34m]\u001b[0m \u001b[0;32mfor\u001b[0m \u001b[0mx\u001b[0m \u001b[0;32min\u001b[0m \u001b[0mnames\u001b[0m\u001b[0;34m]\u001b[0m\u001b[0;34m\u001b[0m\u001b[0;34m\u001b[0m\u001b[0m\n",
            "\u001b[0;31mValueError\u001b[0m: not enough values to unpack (expected 2, got 1)"
          ]
        }
      ]
    },
    {
      "cell_type": "code",
      "metadata": {
        "id": "fa55a1ca"
      },
      "source": [
        "import Datasets\n",
        "import Methods\n",
        "import Connect\n",
        "import Viewer\n",
        "\n",
        "import numpy as np"
      ],
      "id": "fa55a1ca",
      "execution_count": 19,
      "outputs": []
    },
    {
      "cell_type": "markdown",
      "metadata": {
        "id": "9754c1f3"
      },
      "source": [
        "# NeuroPy\n",
        "\n",
        "#### Tutorial documentation\n",
        "\n",
        "### github@HNXJ\n",
        "\n",
        "Use web browser to open, consider enabling \n",
        "JS and trust notebook JS content (for plotly html plots)"
      ],
      "id": "9754c1f3"
    },
    {
      "cell_type": "markdown",
      "metadata": {
        "id": "807d00d7"
      },
      "source": [
        "### Load dataset\n",
        "\n",
        "For loading your data, create a Datasets.Dataset() variable class and load your .mat, .csv or other types as a dictionary to Dataset.data. Then put your data parts into Dataset.signals dict() like the example bellow:"
      ],
      "id": "807d00d7"
    },
    {
      "cell_type": "code",
      "metadata": {
        "colab": {
          "base_uri": "https://localhost:8080/",
          "height": 370
        },
        "id": "25975e5e",
        "outputId": "833679c7-cc4c-4674-ceb5-48cf468449c8"
      },
      "source": [
        "import scipy.io as sio\n",
        "\n",
        "d = Datasets.Dataset()\n",
        "d.data = sio.loadmat('/content/Data/data.mat')\n",
        "d.cues = sio.loadmat('Data/cues.mat')['c']\n",
        "\n",
        "d.signals['pfc'] = d.data['lfp'][:, 0:16, :]\n",
        "d.signals['p7a'] = d.data['lfp'][:, 16:32, :]\n",
        "d.signals['v4'] = d.data['lfp'][:, 32:48, :]"
      ],
      "id": "25975e5e",
      "execution_count": 29,
      "outputs": [
        {
          "output_type": "error",
          "ename": "ValueError",
          "evalue": "ignored",
          "traceback": [
            "\u001b[0;31m---------------------------------------------------------------------------\u001b[0m",
            "\u001b[0;31mValueError\u001b[0m                                Traceback (most recent call last)",
            "\u001b[0;32m<ipython-input-29-90984b4d0fc2>\u001b[0m in \u001b[0;36m<module>\u001b[0;34m()\u001b[0m\n\u001b[1;32m      2\u001b[0m \u001b[0;34m\u001b[0m\u001b[0m\n\u001b[1;32m      3\u001b[0m \u001b[0md\u001b[0m \u001b[0;34m=\u001b[0m \u001b[0mDatasets\u001b[0m\u001b[0;34m.\u001b[0m\u001b[0mDataset\u001b[0m\u001b[0;34m(\u001b[0m\u001b[0;34m)\u001b[0m\u001b[0;34m\u001b[0m\u001b[0;34m\u001b[0m\u001b[0m\n\u001b[0;32m----> 4\u001b[0;31m \u001b[0md\u001b[0m\u001b[0;34m.\u001b[0m\u001b[0mdata\u001b[0m \u001b[0;34m=\u001b[0m \u001b[0msio\u001b[0m\u001b[0;34m.\u001b[0m\u001b[0mloadmat\u001b[0m\u001b[0;34m(\u001b[0m\u001b[0;34m'/content/Data/data.mat'\u001b[0m\u001b[0;34m)\u001b[0m\u001b[0;34m\u001b[0m\u001b[0;34m\u001b[0m\u001b[0m\n\u001b[0m\u001b[1;32m      5\u001b[0m \u001b[0md\u001b[0m\u001b[0;34m.\u001b[0m\u001b[0mcues\u001b[0m \u001b[0;34m=\u001b[0m \u001b[0msio\u001b[0m\u001b[0;34m.\u001b[0m\u001b[0mloadmat\u001b[0m\u001b[0;34m(\u001b[0m\u001b[0;34m'Data/cues.mat'\u001b[0m\u001b[0;34m)\u001b[0m\u001b[0;34m[\u001b[0m\u001b[0;34m'c'\u001b[0m\u001b[0;34m]\u001b[0m\u001b[0;34m\u001b[0m\u001b[0;34m\u001b[0m\u001b[0m\n\u001b[1;32m      6\u001b[0m \u001b[0;34m\u001b[0m\u001b[0m\n",
            "\u001b[0;32m/usr/local/lib/python3.7/dist-packages/scipy/io/matlab/mio.py\u001b[0m in \u001b[0;36mloadmat\u001b[0;34m(file_name, mdict, appendmat, **kwargs)\u001b[0m\n\u001b[1;32m    215\u001b[0m     \u001b[0mvariable_names\u001b[0m \u001b[0;34m=\u001b[0m \u001b[0mkwargs\u001b[0m\u001b[0;34m.\u001b[0m\u001b[0mpop\u001b[0m\u001b[0;34m(\u001b[0m\u001b[0;34m'variable_names'\u001b[0m\u001b[0;34m,\u001b[0m \u001b[0;32mNone\u001b[0m\u001b[0;34m)\u001b[0m\u001b[0;34m\u001b[0m\u001b[0;34m\u001b[0m\u001b[0m\n\u001b[1;32m    216\u001b[0m     \u001b[0;32mwith\u001b[0m \u001b[0m_open_file_context\u001b[0m\u001b[0;34m(\u001b[0m\u001b[0mfile_name\u001b[0m\u001b[0;34m,\u001b[0m \u001b[0mappendmat\u001b[0m\u001b[0;34m)\u001b[0m \u001b[0;32mas\u001b[0m \u001b[0mf\u001b[0m\u001b[0;34m:\u001b[0m\u001b[0;34m\u001b[0m\u001b[0;34m\u001b[0m\u001b[0m\n\u001b[0;32m--> 217\u001b[0;31m         \u001b[0mMR\u001b[0m\u001b[0;34m,\u001b[0m \u001b[0m_\u001b[0m \u001b[0;34m=\u001b[0m \u001b[0mmat_reader_factory\u001b[0m\u001b[0;34m(\u001b[0m\u001b[0mf\u001b[0m\u001b[0;34m,\u001b[0m \u001b[0;34m**\u001b[0m\u001b[0mkwargs\u001b[0m\u001b[0;34m)\u001b[0m\u001b[0;34m\u001b[0m\u001b[0;34m\u001b[0m\u001b[0m\n\u001b[0m\u001b[1;32m    218\u001b[0m         \u001b[0mmatfile_dict\u001b[0m \u001b[0;34m=\u001b[0m \u001b[0mMR\u001b[0m\u001b[0;34m.\u001b[0m\u001b[0mget_variables\u001b[0m\u001b[0;34m(\u001b[0m\u001b[0mvariable_names\u001b[0m\u001b[0;34m)\u001b[0m\u001b[0;34m\u001b[0m\u001b[0;34m\u001b[0m\u001b[0m\n\u001b[1;32m    219\u001b[0m \u001b[0;34m\u001b[0m\u001b[0m\n",
            "\u001b[0;32m/usr/local/lib/python3.7/dist-packages/scipy/io/matlab/mio.py\u001b[0m in \u001b[0;36mmat_reader_factory\u001b[0;34m(file_name, appendmat, **kwargs)\u001b[0m\n\u001b[1;32m     70\u001b[0m     \"\"\"\n\u001b[1;32m     71\u001b[0m     \u001b[0mbyte_stream\u001b[0m\u001b[0;34m,\u001b[0m \u001b[0mfile_opened\u001b[0m \u001b[0;34m=\u001b[0m \u001b[0m_open_file\u001b[0m\u001b[0;34m(\u001b[0m\u001b[0mfile_name\u001b[0m\u001b[0;34m,\u001b[0m \u001b[0mappendmat\u001b[0m\u001b[0;34m)\u001b[0m\u001b[0;34m\u001b[0m\u001b[0;34m\u001b[0m\u001b[0m\n\u001b[0;32m---> 72\u001b[0;31m     \u001b[0mmjv\u001b[0m\u001b[0;34m,\u001b[0m \u001b[0mmnv\u001b[0m \u001b[0;34m=\u001b[0m \u001b[0mget_matfile_version\u001b[0m\u001b[0;34m(\u001b[0m\u001b[0mbyte_stream\u001b[0m\u001b[0;34m)\u001b[0m\u001b[0;34m\u001b[0m\u001b[0;34m\u001b[0m\u001b[0m\n\u001b[0m\u001b[1;32m     73\u001b[0m     \u001b[0;32mif\u001b[0m \u001b[0mmjv\u001b[0m \u001b[0;34m==\u001b[0m \u001b[0;36m0\u001b[0m\u001b[0;34m:\u001b[0m\u001b[0;34m\u001b[0m\u001b[0;34m\u001b[0m\u001b[0m\n\u001b[1;32m     74\u001b[0m         \u001b[0;32mreturn\u001b[0m \u001b[0mMatFile4Reader\u001b[0m\u001b[0;34m(\u001b[0m\u001b[0mbyte_stream\u001b[0m\u001b[0;34m,\u001b[0m \u001b[0;34m**\u001b[0m\u001b[0mkwargs\u001b[0m\u001b[0;34m)\u001b[0m\u001b[0;34m,\u001b[0m \u001b[0mfile_opened\u001b[0m\u001b[0;34m\u001b[0m\u001b[0;34m\u001b[0m\u001b[0m\n",
            "\u001b[0;32m/usr/local/lib/python3.7/dist-packages/scipy/io/matlab/miobase.py\u001b[0m in \u001b[0;36mget_matfile_version\u001b[0;34m(fileobj)\u001b[0m\n\u001b[1;32m    239\u001b[0m     \u001b[0;32mif\u001b[0m \u001b[0mmaj_val\u001b[0m \u001b[0;32min\u001b[0m \u001b[0;34m(\u001b[0m\u001b[0;36m1\u001b[0m\u001b[0;34m,\u001b[0m \u001b[0;36m2\u001b[0m\u001b[0;34m)\u001b[0m\u001b[0;34m:\u001b[0m\u001b[0;34m\u001b[0m\u001b[0;34m\u001b[0m\u001b[0m\n\u001b[1;32m    240\u001b[0m         \u001b[0;32mreturn\u001b[0m \u001b[0mret\u001b[0m\u001b[0;34m\u001b[0m\u001b[0;34m\u001b[0m\u001b[0m\n\u001b[0;32m--> 241\u001b[0;31m     \u001b[0;32mraise\u001b[0m \u001b[0mValueError\u001b[0m\u001b[0;34m(\u001b[0m\u001b[0;34m'Unknown mat file type, version %s, %s'\u001b[0m \u001b[0;34m%\u001b[0m \u001b[0mret\u001b[0m\u001b[0;34m)\u001b[0m\u001b[0;34m\u001b[0m\u001b[0;34m\u001b[0m\u001b[0m\n\u001b[0m\u001b[1;32m    242\u001b[0m \u001b[0;34m\u001b[0m\u001b[0m\n\u001b[1;32m    243\u001b[0m \u001b[0;34m\u001b[0m\u001b[0m\n",
            "\u001b[0;31mValueError\u001b[0m: Unknown mat file type, version 112, 116"
          ]
        }
      ]
    },
    {
      "cell_type": "markdown",
      "metadata": {
        "id": "25ed05d7"
      },
      "source": [
        "For examples in this tutorial, the laminar recording used in [Bastos et al, 2020, layer and rhythm specifity...] has been used. If you had its \"data.mat\" file, the method Dataset.load_laminar_data(filename) will be able to load id; otherwise use the loading format shown in cell above.\n",
        "\n",
        "The method \"Dataset.print_all_content(dict_)\" is a method for checking all content of a dictionary file; use it if you want to check your \".mat\", \".npy\" and ... file content as a dict. "
      ],
      "id": "25ed05d7"
    },
    {
      "cell_type": "code",
      "metadata": {
        "id": "f614d8ba"
      },
      "source": [
        "dataset = Datasets.Dataset()\n",
        "dataset.load_laminar_data(filename=\"Data/data.mat\")\n",
        "dataset.print_all_content()\n",
        "trials_block = dataset.get_trials(key='block', l=0, r=600)\n",
        "trials_trial = dataset.get_trials(key='trial', l=0, r=600)\n",
        "trials = [i for i in range(0, 600, 1)]"
      ],
      "id": "f614d8ba",
      "execution_count": null,
      "outputs": []
    },
    {
      "cell_type": "markdown",
      "metadata": {
        "id": "2babb02a"
      },
      "source": [
        "### Event related potential plot"
      ],
      "id": "2babb02a"
    },
    {
      "cell_type": "code",
      "metadata": {
        "id": "35eff3ef"
      },
      "source": [
        "Methods.ERP_plot(data=dataset.signals['pfc'], title=\"ERP of pfc for all trials\", save=False, filename=\"ERP_plot\")"
      ],
      "id": "35eff3ef",
      "execution_count": null,
      "outputs": []
    },
    {
      "cell_type": "markdown",
      "metadata": {
        "id": "d124ed89"
      },
      "source": [
        "### Current source density plot"
      ],
      "id": "d124ed89"
    },
    {
      "cell_type": "code",
      "metadata": {
        "id": "05609ba0"
      },
      "source": [
        "Methods.CSD_plot(data=dataset.signals['v4'], title=\"Average CSD for all trials\", save=False, filename=\"ACSD_plot\")"
      ],
      "id": "05609ba0",
      "execution_count": null,
      "outputs": []
    },
    {
      "cell_type": "markdown",
      "metadata": {
        "id": "02b2e9d9"
      },
      "source": [
        "### Power spectrum density plots"
      ],
      "id": "02b2e9d9"
    },
    {
      "cell_type": "code",
      "metadata": {
        "id": "9aa539d9"
      },
      "source": [
        "trials = [40, 60]\n",
        "psd, freqs = Methods.power_spectrum_density(data=dataset.signals['pfc'], save=True, t1=1500, t2=4500, fmin=0,\n",
        "            fmax=100, normalize_w=True, bw=75, k=0, trials=trials)\n",
        "Methods.customplot(x=psd[:, :, 1].transpose(), save=False, show=True, filename=\"PSD_plot.html\"\n",
        "                , w=251, h=16, t=freqs, y=[i for i in range(16)], relative=True\n",
        "                ,xlabel=\"T\", ylabel=\"A\", title=\"Plot\", reverse=True\n",
        "                ,xtext=False, xtext_labels=[\"t\"])"
      ],
      "id": "9aa539d9",
      "execution_count": null,
      "outputs": []
    },
    {
      "cell_type": "markdown",
      "metadata": {
        "id": "d888a556"
      },
      "source": [
        "### PSD ratio plotter"
      ],
      "id": "d888a556"
    },
    {
      "cell_type": "code",
      "metadata": {
        "id": "05cca3df"
      },
      "source": [
        "Methods.psd_ratio_plotter(psd=psd[:, :, 0], freqs=freqs,\n",
        "                  title=\"T40SpectBandAvgPower\")\n",
        "Methods.psd_ratio_compare_plotter(psd1=psd[:, :, 1], psd2=psd[:, :, 0],\n",
        "                          freqs=freqs, title=\"PSDRatio_T60-T40\")"
      ],
      "id": "05cca3df",
      "execution_count": null,
      "outputs": []
    },
    {
      "cell_type": "markdown",
      "metadata": {
        "id": "3d75d864"
      },
      "source": [
        "### PSD in time windows\n",
        "\n",
        "In order to analysis the time and event effects on the behavior and features of the data, methods for time decomposition based analysis are implemented. more methods may be available for connectivity analysis later. As this extracted data may be time consuming, so saving and loading methods are implemented."
      ],
      "id": "3d75d864"
    },
    {
      "cell_type": "code",
      "metadata": {
        "id": "84486aec"
      },
      "source": [
        "tpsd, freqs, times = Connect.time_power_spectrum_density(data=dataset.signals['pfc']\n",
        "                                , save=True, bands=True\n",
        "                                , time_window_size=500, time_overlap=50\n",
        "                                , trials=trials, bw=50, tl=0, tr=4000, time_base=-1500)\n",
        "\n",
        "Datasets.save_list([tpsd, freqs, times], \"Data/1-600-tpsd.txt\")\n",
        "[tpsd, freqs, times] = Datasets.load_list(\"Data/1-600-tpsd.txt\")\n",
        "\n",
        "# Average PSD\n",
        "tpsd_m = np.zeros([tpsd.shape[0], tpsd.shape[1], tpsd.shape[2], 12]) \n",
        "for i in range(12):\n",
        "    tpsd_m[:, :, :, i] = np.mean(tpsd[:, :, :, i*50:(i+1)*50], 3)"
      ],
      "id": "84486aec",
      "execution_count": null,
      "outputs": []
    },
    {
      "cell_type": "markdown",
      "metadata": {
        "id": "49916cbb"
      },
      "source": [
        "### Spectral correlation in time windows"
      ],
      "id": "49916cbb"
    },
    {
      "cell_type": "code",
      "metadata": {
        "id": "c339a063"
      },
      "source": [
        "tsc = Connect.time_spectral_coherence(data=tpsd, trials=trials, ts=times)\n",
        "\n",
        "### Average TSC\n",
        "tsc_m = np.zeros([tsc.shape[0], tsc.shape[1], tsc.shape[2], 12]) \n",
        "for i in range(12):\n",
        "    tsc_m[:, :, :, i] = np.mean(tsc[:, :, :, i*50:(i+1)*50], 3)"
      ],
      "id": "c339a063",
      "execution_count": null,
      "outputs": []
    },
    {
      "cell_type": "markdown",
      "metadata": {
        "id": "23789344"
      },
      "source": [
        "### Granger causality is time windows"
      ],
      "id": "23789344"
    },
    {
      "cell_type": "code",
      "metadata": {
        "id": "20bf0234"
      },
      "source": [
        "tgc, times = Connect.time_granger_causality(data=dataset.signals['pfc'], time_window_size=500\n",
        "                                , time_overlap=0, trials=trials, bw=50, tl=0\n",
        "                                , tr=3500, time_base=-1500)\n",
        "\n",
        "Datasets.save_list([tgc, times], \"Data/1-600-tgc.txt\")\n",
        "[tgc, times] = Datasets.load_list(\"Data/1-600-tgc.txt\")\n",
        "\n",
        "### Average TGC\n",
        "tgc_m = np.zeros([tgc.shape[0], tgc.shape[1], tgc.shape[2], 12]) \n",
        "for i in range(12):\n",
        "    tgc_m[:, :, :, i] = np.mean(tgc[:, :, :, i*5:(i+1)*5], 3)"
      ],
      "id": "20bf0234",
      "execution_count": null,
      "outputs": []
    },
    {
      "cell_type": "markdown",
      "metadata": {
        "id": "b496cb99"
      },
      "source": [
        "### Visualization interactive data using dash/plotly web appliction interface"
      ],
      "id": "b496cb99"
    },
    {
      "cell_type": "code",
      "metadata": {
        "id": "91867f9e"
      },
      "source": [
        "Viewer.run(data=tpsd, fqs=freqs, title=\"PSD in time, pfc area \", bands=True\n",
        "            , xlabel=\"Frequency\", ylabel=\"Channel\", fr=times, tr=trials)"
      ],
      "id": "91867f9e",
      "execution_count": null,
      "outputs": []
    },
    {
      "cell_type": "code",
      "metadata": {
        "id": "9fce903d"
      },
      "source": [
        "Viewer.run(data=tsc, fqs=freqs, title=\"Spectral coherence in time, V4 area \", bands=False\n",
        "            , xlabel=\"Frequency\", ylabel=\"Channel\", fr=times, tr=trials)"
      ],
      "id": "9fce903d",
      "execution_count": null,
      "outputs": []
    },
    {
      "cell_type": "code",
      "metadata": {
        "id": "7adfbd9f"
      },
      "source": [
        "Viewer.run(data=tgc, fqs=freqs, title=\"Granger causality in time, pfc area \"\n",
        "            , xlabel=\"Frequency\", ylabel=\"Channel\", fr=times, tr=trials)"
      ],
      "id": "7adfbd9f",
      "execution_count": null,
      "outputs": []
    },
    {
      "cell_type": "code",
      "metadata": {
        "id": "81856e6a"
      },
      "source": [
        "Viewer.run(data=tpsd_m, fqs=freqs, title=\"PSD in time, pfc area \", bands=True\n",
        "            , xlabel=\"Frequency\", ylabel=\"Channel\", fr=times, tr=[i for i in range(12)])"
      ],
      "id": "81856e6a",
      "execution_count": null,
      "outputs": []
    },
    {
      "cell_type": "code",
      "metadata": {
        "id": "ecd5b176"
      },
      "source": [
        "Viewer.run(data=tsc_m, fqs=freqs, title=\"Spectral coherence in time, V4 area \", bands=False\n",
        "            , xlabel=\"Frequency\", ylabel=\"Channel\", fr=times, tr=[i for i in range(12)])"
      ],
      "id": "ecd5b176",
      "execution_count": null,
      "outputs": []
    },
    {
      "cell_type": "code",
      "metadata": {
        "id": "230ccde8"
      },
      "source": [
        "Viewer.run(data=tgc_m, fqs=freqs, title=\"Granger causality in time, pfc area \"\n",
        "            , xlabel=\"Frequency\", ylabel=\"Channel\", fr=times, tr=[i for i in range(12)])"
      ],
      "id": "230ccde8",
      "execution_count": null,
      "outputs": []
    },
    {
      "cell_type": "markdown",
      "metadata": {
        "id": "f8509284"
      },
      "source": [
        "* Other examples coming soon ..."
      ],
      "id": "f8509284"
    },
    {
      "cell_type": "markdown",
      "metadata": {
        "id": "f1aefff1"
      },
      "source": [
        "# End"
      ],
      "id": "f1aefff1"
    }
  ]
}