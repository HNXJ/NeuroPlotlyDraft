{
  "nbformat": 4,
  "nbformat_minor": 5,
  "metadata": {
    "kernelspec": {
      "display_name": "Python 3 (ipykernel)",
      "language": "python",
      "name": "python3"
    },
    "language_info": {
      "codemirror_mode": {
        "name": "ipython",
        "version": 3
      },
      "file_extension": ".py",
      "mimetype": "text/x-python",
      "name": "python",
      "nbconvert_exporter": "python",
      "pygments_lexer": "ipython3",
      "version": "3.7.6"
    },
    "varInspector": {
      "cols": {
        "lenName": 16,
        "lenType": 16,
        "lenVar": 40
      },
      "kernels_config": {
        "python": {
          "delete_cmd_postfix": "",
          "delete_cmd_prefix": "del ",
          "library": "var_list.py",
          "varRefreshCmd": "print(var_dic_list())"
        },
        "r": {
          "delete_cmd_postfix": ") ",
          "delete_cmd_prefix": "rm(",
          "library": "var_list.r",
          "varRefreshCmd": "cat(var_dic_list()) "
        }
      },
      "types_to_exclude": [
        "module",
        "function",
        "builtin_function_or_method",
        "instance",
        "_Feature"
      ],
      "window_display": false
    },
    "colab": {
      "name": "Tutorial.ipynb",
      "provenance": [],
      "include_colab_link": true
    }
  },
  "cells": [
    {
      "cell_type": "markdown",
      "metadata": {
        "id": "view-in-github",
        "colab_type": "text"
      },
      "source": [
        "<a href=\"https://colab.research.google.com/github/HNXJ/NeuroPy/blob/main/Tutorial.ipynb\" target=\"_parent\"><img src=\"https://colab.research.google.com/assets/colab-badge.svg\" alt=\"Open In Colab\"/></a>"
      ]
    },
    {
      "cell_type": "code",
      "metadata": {
        "id": "fa55a1ca"
      },
      "source": [
        "import Datasets\n",
        "import Methods\n",
        "import Connect\n",
        "import Viewer\n",
        "\n",
        "import numpy as np"
      ],
      "id": "fa55a1ca",
      "execution_count": null,
      "outputs": []
    },
    {
      "cell_type": "markdown",
      "metadata": {
        "id": "9754c1f3"
      },
      "source": [
        "# NeuroPy\n",
        "\n",
        "#### Tutorial documentation\n",
        "\n",
        "### github@HNXJ\n",
        "\n",
        "Use web browser to open, consider enabling \n",
        "JS and trust notebook JS content (for plotly html plots)"
      ],
      "id": "9754c1f3"
    },
    {
      "cell_type": "markdown",
      "metadata": {
        "id": "807d00d7"
      },
      "source": [
        "### Load dataset\n",
        "\n",
        "For loading your data, create a Datasets.Dataset() variable class and load your .mat, .csv or other types as a dictionary to Dataset.data. Then put your data parts into Dataset.signals dict() like the example bellow:"
      ],
      "id": "807d00d7"
    },
    {
      "cell_type": "code",
      "metadata": {
        "id": "25975e5e"
      },
      "source": [
        "import scipy.io as sio\n",
        "\n",
        "d = Datasets.Dataset()\n",
        "d.data = sio.loadmat('Data/data.mat')\n",
        "d.cues = sio.loadmat('Data/cues.mat')['c']\n",
        "\n",
        "d.signals['pfc'] = d.data['lfp'][:, 0:16, :]\n",
        "d.signals['p7a'] = d.data['lfp'][:, 16:32, :]\n",
        "d.signals['v4'] = d.data['lfp'][:, 32:48, :]"
      ],
      "id": "25975e5e",
      "execution_count": null,
      "outputs": []
    },
    {
      "cell_type": "markdown",
      "metadata": {
        "id": "25ed05d7"
      },
      "source": [
        "For examples in this tutorial, the laminar recording used in [Bastos et al, 2020, layer and rhythm specifity...] has been used. If you had its \"data.mat\" file, the method Dataset.load_laminar_data(filename) will be able to load id; otherwise use the loading format shown in cell above.\n",
        "\n",
        "The method \"Dataset.print_all_content(dict_)\" is a method for checking all content of a dictionary file; use it if you want to check your \".mat\", \".npy\" and ... file content as a dict. "
      ],
      "id": "25ed05d7"
    },
    {
      "cell_type": "code",
      "metadata": {
        "id": "f614d8ba"
      },
      "source": [
        "dataset = Datasets.Dataset()\n",
        "dataset.load_laminar_data(filename=\"Data/data.mat\")\n",
        "dataset.print_all_content()\n",
        "trials_block = dataset.get_trials(key='block', l=0, r=600)\n",
        "trials_trial = dataset.get_trials(key='trial', l=0, r=600)\n",
        "trials = [i for i in range(0, 600, 1)]"
      ],
      "id": "f614d8ba",
      "execution_count": null,
      "outputs": []
    },
    {
      "cell_type": "markdown",
      "metadata": {
        "id": "2babb02a"
      },
      "source": [
        "### Event related potential plot"
      ],
      "id": "2babb02a"
    },
    {
      "cell_type": "code",
      "metadata": {
        "id": "35eff3ef"
      },
      "source": [
        "Methods.ERP_plot(data=dataset.signals['pfc'], title=\"ERP of pfc for all trials\", save=False, filename=\"ERP_plot\")"
      ],
      "id": "35eff3ef",
      "execution_count": null,
      "outputs": []
    },
    {
      "cell_type": "markdown",
      "metadata": {
        "id": "d124ed89"
      },
      "source": [
        "### Current source density plot"
      ],
      "id": "d124ed89"
    },
    {
      "cell_type": "code",
      "metadata": {
        "id": "05609ba0"
      },
      "source": [
        "Methods.CSD_plot(data=dataset.signals['v4'], title=\"Average CSD for all trials\", save=False, filename=\"ACSD_plot\")"
      ],
      "id": "05609ba0",
      "execution_count": null,
      "outputs": []
    },
    {
      "cell_type": "markdown",
      "metadata": {
        "id": "02b2e9d9"
      },
      "source": [
        "### Power spectrum density plots"
      ],
      "id": "02b2e9d9"
    },
    {
      "cell_type": "code",
      "metadata": {
        "id": "9aa539d9"
      },
      "source": [
        "trials = [40, 60]\n",
        "psd, freqs = Methods.power_spectrum_density(data=dataset.signals['pfc'], save=True, t1=1500, t2=4500, fmin=0,\n",
        "            fmax=100, normalize_w=True, bw=75, k=0, trials=trials)\n",
        "Methods.customplot(x=psd[:, :, 1].transpose(), save=False, show=True, filename=\"PSD_plot.html\"\n",
        "                , w=251, h=16, t=freqs, y=[i for i in range(16)], relative=True\n",
        "                ,xlabel=\"T\", ylabel=\"A\", title=\"Plot\", reverse=True\n",
        "                ,xtext=False, xtext_labels=[\"t\"])"
      ],
      "id": "9aa539d9",
      "execution_count": null,
      "outputs": []
    },
    {
      "cell_type": "markdown",
      "metadata": {
        "id": "d888a556"
      },
      "source": [
        "### PSD ratio plotter"
      ],
      "id": "d888a556"
    },
    {
      "cell_type": "code",
      "metadata": {
        "id": "05cca3df"
      },
      "source": [
        "Methods.psd_ratio_plotter(psd=psd[:, :, 0], freqs=freqs,\n",
        "                  title=\"T40SpectBandAvgPower\")\n",
        "Methods.psd_ratio_compare_plotter(psd1=psd[:, :, 1], psd2=psd[:, :, 0],\n",
        "                          freqs=freqs, title=\"PSDRatio_T60-T40\")"
      ],
      "id": "05cca3df",
      "execution_count": null,
      "outputs": []
    },
    {
      "cell_type": "markdown",
      "metadata": {
        "id": "3d75d864"
      },
      "source": [
        "### PSD in time windows\n",
        "\n",
        "In order to analysis the time and event effects on the behavior and features of the data, methods for time decomposition based analysis are implemented. more methods may be available for connectivity analysis later. As this extracted data may be time consuming, so saving and loading methods are implemented."
      ],
      "id": "3d75d864"
    },
    {
      "cell_type": "code",
      "metadata": {
        "id": "84486aec"
      },
      "source": [
        "tpsd, freqs, times = Connect.time_power_spectrum_density(data=dataset.signals['pfc']\n",
        "                                , save=True, bands=True\n",
        "                                , time_window_size=500, time_overlap=50\n",
        "                                , trials=trials, bw=50, tl=0, tr=4000, time_base=-1500)\n",
        "\n",
        "Datasets.save_list([tpsd, freqs, times], \"Data/1-600-tpsd.txt\")\n",
        "[tpsd, freqs, times] = Datasets.load_list(\"Data/1-600-tpsd.txt\")\n",
        "\n",
        "# Average PSD\n",
        "tpsd_m = np.zeros([tpsd.shape[0], tpsd.shape[1], tpsd.shape[2], 12]) \n",
        "for i in range(12):\n",
        "    tpsd_m[:, :, :, i] = np.mean(tpsd[:, :, :, i*50:(i+1)*50], 3)"
      ],
      "id": "84486aec",
      "execution_count": null,
      "outputs": []
    },
    {
      "cell_type": "markdown",
      "metadata": {
        "id": "49916cbb"
      },
      "source": [
        "### Spectral correlation in time windows"
      ],
      "id": "49916cbb"
    },
    {
      "cell_type": "code",
      "metadata": {
        "id": "c339a063"
      },
      "source": [
        "tsc = Connect.time_spectral_coherence(data=tpsd, trials=trials, ts=times)\n",
        "\n",
        "### Average TSC\n",
        "tsc_m = np.zeros([tsc.shape[0], tsc.shape[1], tsc.shape[2], 12]) \n",
        "for i in range(12):\n",
        "    tsc_m[:, :, :, i] = np.mean(tsc[:, :, :, i*50:(i+1)*50], 3)"
      ],
      "id": "c339a063",
      "execution_count": null,
      "outputs": []
    },
    {
      "cell_type": "markdown",
      "metadata": {
        "id": "23789344"
      },
      "source": [
        "### Granger causality is time windows"
      ],
      "id": "23789344"
    },
    {
      "cell_type": "code",
      "metadata": {
        "id": "20bf0234"
      },
      "source": [
        "tgc, times = Connect.time_granger_causality(data=dataset.signals['pfc'], time_window_size=500\n",
        "                                , time_overlap=0, trials=trials, bw=50, tl=0\n",
        "                                , tr=3500, time_base=-1500)\n",
        "\n",
        "Datasets.save_list([tgc, times], \"Data/1-600-tgc.txt\")\n",
        "[tgc, times] = Datasets.load_list(\"Data/1-600-tgc.txt\")\n",
        "\n",
        "### Average TGC\n",
        "tgc_m = np.zeros([tgc.shape[0], tgc.shape[1], tgc.shape[2], 12]) \n",
        "for i in range(12):\n",
        "    tgc_m[:, :, :, i] = np.mean(tgc[:, :, :, i*5:(i+1)*5], 3)"
      ],
      "id": "20bf0234",
      "execution_count": null,
      "outputs": []
    },
    {
      "cell_type": "markdown",
      "metadata": {
        "id": "b496cb99"
      },
      "source": [
        "### Visualization interactive data using dash/plotly web appliction interface"
      ],
      "id": "b496cb99"
    },
    {
      "cell_type": "code",
      "metadata": {
        "id": "91867f9e"
      },
      "source": [
        "Viewer.run(data=tpsd, fqs=freqs, title=\"PSD in time, pfc area \", bands=True\n",
        "            , xlabel=\"Frequency\", ylabel=\"Channel\", fr=times, tr=trials)"
      ],
      "id": "91867f9e",
      "execution_count": null,
      "outputs": []
    },
    {
      "cell_type": "code",
      "metadata": {
        "id": "9fce903d"
      },
      "source": [
        "Viewer.run(data=tsc, fqs=freqs, title=\"Spectral coherence in time, V4 area \", bands=False\n",
        "            , xlabel=\"Frequency\", ylabel=\"Channel\", fr=times, tr=trials)"
      ],
      "id": "9fce903d",
      "execution_count": null,
      "outputs": []
    },
    {
      "cell_type": "code",
      "metadata": {
        "id": "7adfbd9f"
      },
      "source": [
        "Viewer.run(data=tgc, fqs=freqs, title=\"Granger causality in time, pfc area \"\n",
        "            , xlabel=\"Frequency\", ylabel=\"Channel\", fr=times, tr=trials)"
      ],
      "id": "7adfbd9f",
      "execution_count": null,
      "outputs": []
    },
    {
      "cell_type": "code",
      "metadata": {
        "id": "81856e6a"
      },
      "source": [
        "Viewer.run(data=tpsd_m, fqs=freqs, title=\"PSD in time, pfc area \", bands=True\n",
        "            , xlabel=\"Frequency\", ylabel=\"Channel\", fr=times, tr=[i for i in range(12)])"
      ],
      "id": "81856e6a",
      "execution_count": null,
      "outputs": []
    },
    {
      "cell_type": "code",
      "metadata": {
        "id": "ecd5b176"
      },
      "source": [
        "Viewer.run(data=tsc_m, fqs=freqs, title=\"Spectral coherence in time, V4 area \", bands=False\n",
        "            , xlabel=\"Frequency\", ylabel=\"Channel\", fr=times, tr=[i for i in range(12)])"
      ],
      "id": "ecd5b176",
      "execution_count": null,
      "outputs": []
    },
    {
      "cell_type": "code",
      "metadata": {
        "id": "230ccde8"
      },
      "source": [
        "Viewer.run(data=tgc_m, fqs=freqs, title=\"Granger causality in time, pfc area \"\n",
        "            , xlabel=\"Frequency\", ylabel=\"Channel\", fr=times, tr=[i for i in range(12)])"
      ],
      "id": "230ccde8",
      "execution_count": null,
      "outputs": []
    },
    {
      "cell_type": "markdown",
      "metadata": {
        "id": "f8509284"
      },
      "source": [
        "* Other examples coming soon ..."
      ],
      "id": "f8509284"
    },
    {
      "cell_type": "markdown",
      "metadata": {
        "id": "f1aefff1"
      },
      "source": [
        "# End"
      ],
      "id": "f1aefff1"
    }
  ]
}